{
 "cells": [
  {
   "cell_type": "markdown",
   "metadata": {},
   "source": [
    "Source: https://www.eia.gov/"
   ]
  },
  {
   "cell_type": "code",
   "execution_count": 300,
   "metadata": {},
   "outputs": [],
   "source": [
    "from dotenv import load_dotenv\n",
    "import pandas as pd\n",
    "import json\n",
    "import numpy\n",
    "import seaborn \n",
    "import matplotlib.pyplot as plt\n",
    "import requests\n",
    "import os\n",
    "import plotly.graph_objects as go"
   ]
  },
  {
   "cell_type": "code",
   "execution_count": 301,
   "metadata": {},
   "outputs": [],
   "source": [
    "load_dotenv()\n",
    "\n",
    "API_KEY = os.getenv(\"API_KEY\")\n",
    "\n",
    "# State Energy Data System (SEDS) category ID\n",
    "SEDS_ID = os.getenv(\"SEDS_ID\") \n",
    "\n",
    "# Generic URLs for making API calls on the category and series sides\n",
    "CAT_URL = os.getenv(\"CAT_URL\")\n",
    "SERIES_URL = os.getenv(\"SERIES_URL\")"
   ]
  },
  {
   "cell_type": "markdown",
   "metadata": {},
   "source": [
    "Create a list of all 50 states."
   ]
  },
  {
   "cell_type": "code",
   "execution_count": 302,
   "metadata": {},
   "outputs": [],
   "source": [
    "state_names=[\"Alabama\", \"Alaska\", \"Arizona\", \"Arkansas\", \"California\", \"Colorado\", \"Connecticut\", \"Delaware\", \"District of Columbia\" \"Florida\", \"Georgia\", \"Hawaii\", \"Idaho\", \"Illinois\", \"Indiana\", \"Iowa\", \"Kansas\", \"Kentucky\", \"Louisiana\", \"Maine\", \"Maryland\", \"Massachusetts\", \"Michigan\", \"Minnesota\", \"Mississippi\", \"Missouri\", \"Montana\", \"Nebraska\", \"Nevada\", \"New Hampshire\", \"New Jersey\", \"New Mexico\", \"New York\", \"North Carolina\", \"North Dakota\", \"Ohio\", \"Oklahoma\", \"Oregon\", \"Pennsylvania\", \"Rhode Island\", \"South Carolina\", \"South Dakota\", \"Tennessee\", \"Texas\", \"Utah\", \"Vermont\", \"Virginia\", \"Washington\", \"West Virginia\", \"Wisconsin\", \"Wyoming\"]"
   ]
  },
  {
   "cell_type": "markdown",
   "metadata": {},
   "source": [
    "Get the major categories roster"
   ]
  },
  {
   "cell_type": "code",
   "execution_count": 303,
   "metadata": {},
   "outputs": [
    {
     "name": "stdout",
     "output_type": "stream",
     "text": [
      "{'Consumption': 40204, 'Prices & Expenditures': 40909, 'Production': 40207, 'Population': 40367, 'GDP': 40827, 'Conversion Factors': 40867}\n"
     ]
    }
   ],
   "source": [
    "# Start at the SEDS level.\n",
    "response = requests.get(CAT_URL, params={\"api_key\":API_KEY, \"category_id\": SEDS_ID})\n",
    "major_cat_ids = {}\n",
    "\n",
    "for i in response.json()['category']['childcategories']:\n",
    "    name = i['name']\n",
    "    cat_id = i['category_id']\n",
    "    major_cat_ids[name] = cat_id\n",
    "print(major_cat_ids)"
   ]
  },
  {
   "cell_type": "markdown",
   "metadata": {},
   "source": [
    "#### Consumption"
   ]
  },
  {
   "cell_type": "markdown",
   "metadata": {},
   "source": [
    "##### Total all sectors"
   ]
  },
  {
   "cell_type": "code",
   "execution_count": 304,
   "metadata": {},
   "outputs": [
    {
     "name": "stdout",
     "output_type": "stream",
     "text": [
      "[{'category_id': 40236, 'name': 'Total All Sectors'}, {'category_id': 40208, 'name': 'Total End-Use Sectors'}, {'category_id': 40209, 'name': 'Residential Sector'}, {'category_id': 40210, 'name': 'Commercial Sector'}, {'category_id': 40211, 'name': 'Industrial Sector'}, {'category_id': 40212, 'name': 'Transportation Sector'}, {'category_id': 40213, 'name': 'Electric Power Sector'}]\n"
     ]
    }
   ],
   "source": [
    "# Total All Sectors \n",
    "tas_major_cats = requests.get(CAT_URL, params={\"api_key\":API_KEY, \"category_id\":os.getenv(\"CONS_ID\")})\n",
    "print(tas_major_cats.json()['category']['childcategories'])"
   ]
  },
  {
   "cell_type": "code",
   "execution_count": 305,
   "metadata": {},
   "outputs": [],
   "source": [
    "# Get total all sectors state series IDs\n",
    "tas = requests.get(CAT_URL, params={\"api_key\":API_KEY, \"category_id\":os.getenv(\"TAS_ID\")})\n",
    "\n",
    "# Match states with their data series IDs\n",
    "state_series_tas_ids = {}\n",
    "for i in tas.json()['category']['childseries']:\n",
    "    name = i['name']\n",
    "    series_id = i['series_id']\n",
    "    state_series_tas_ids[name.lstrip(\"Total energy consum\").lstrip(\"ption, \")] = series_id\n",
    "\n",
    "# print(state_series_tas_ids)\n",
    "\n",
    "# # Make folders for total energy consumption of each state\n",
    "# root_dir = \"./project_datasets/consumption/total\"\n",
    "# for key,val in state_series_tas_ids.items():\n",
    "#     path = os.path.join(root_dir,key)\n",
    "#     if os.path.isdir(path):\n",
    "#         pass\n",
    "#     else:\n",
    "#         os.mkdir(path)"
   ]
  },
  {
   "cell_type": "markdown",
   "metadata": {},
   "source": [
    "##### All Petroleum Products"
   ]
  },
  {
   "cell_type": "code",
   "execution_count": 306,
   "metadata": {},
   "outputs": [],
   "source": [
    "petrol = requests.get(CAT_URL, params={\"api_key\": API_KEY, \"category_id\": 40441})\n",
    "\n",
    "state_series_petrol_ids = {}\n",
    "for i in petrol.json()['category']['childseries']:\n",
    "    name = i['name']\n",
    "    series_id = i['series_id']\n",
    "    state_series_petrol_ids[name.lstrip(\"All petroleum products total consumption, excluding\").lstrip(\"biofuels, \")] = series_id"
   ]
  },
  {
   "cell_type": "markdown",
   "metadata": {},
   "source": [
    "##### Coal"
   ]
  },
  {
   "cell_type": "code",
   "execution_count": 307,
   "metadata": {},
   "outputs": [],
   "source": [
    "coal = requests.get(CAT_URL, params={\"api_key\": API_KEY, \"category_id\": 40478})\n",
    "\n",
    "state_series_coal_ids = {}\n",
    "for i in coal.json()['category']['childseries']:\n",
    "    name = i['name']\n",
    "    series_id = i['series_id']\n",
    "    state_series_coal_ids[name.lstrip(\"Coal total consumption, \")] = series_id"
   ]
  },
  {
   "cell_type": "markdown",
   "metadata": {},
   "source": [
    "##### Natural Gas including Supplemental Gaseous Fuels"
   ]
  },
  {
   "cell_type": "code",
   "execution_count": 308,
   "metadata": {},
   "outputs": [],
   "source": [
    "natgas = requests.get(CAT_URL, params={\"api_key\": API_KEY, \"category_id\": 40452})\n",
    "\n",
    "state_series_natgas_ids = {}\n",
    "for i in natgas.json()['category']['childseries']:\n",
    "    name = i['name']\n",
    "    series_id = i['series_id']\n",
    "    state_series_natgas_ids[name.lstrip(\"Natural gas total consumption, \")] = series_id"
   ]
  },
  {
   "cell_type": "markdown",
   "metadata": {},
   "source": [
    "##### Solar Energy"
   ]
  },
  {
   "cell_type": "code",
   "execution_count": 309,
   "metadata": {},
   "outputs": [],
   "source": [
    "solar = requests.get(CAT_URL, params={\"api_key\": API_KEY, \"category_id\": 40382})\n",
    "\n",
    "state_series_solar_ids = {}\n",
    "for i in solar.json()['category']['childseries']:\n",
    "    name = i['name']\n",
    "    series_id = i['series_id']\n",
    "    state_series_solar_ids[name.lstrip(\"Solar energy total consum\").lstrip(\"ption, \")] = series_id"
   ]
  },
  {
   "cell_type": "markdown",
   "metadata": {},
   "source": [
    "##### Wind Energy"
   ]
  },
  {
   "cell_type": "code",
   "execution_count": 310,
   "metadata": {},
   "outputs": [],
   "source": [
    "wind = requests.get(CAT_URL, params={\"api_key\": API_KEY, \"category_id\": 40324})\n",
    "\n",
    "state_series_wind_ids = {}\n",
    "for i in wind.json()['category']['childseries']:\n",
    "    name = i['name']\n",
    "    series_id = i['series_id']\n",
    "    state_series_wind_ids[name.lstrip(\"Wind energy total consum\").lstrip(\"ption, \")] = series_id"
   ]
  },
  {
   "cell_type": "markdown",
   "metadata": {},
   "source": [
    "##### Wood and Waste Energy"
   ]
  },
  {
   "cell_type": "code",
   "execution_count": 311,
   "metadata": {},
   "outputs": [],
   "source": [
    "wood = requests.get(CAT_URL, params={\"api_key\": API_KEY, \"category_id\": 40335})\n",
    "\n",
    "state_series_wood_ids = {}\n",
    "for i in wood.json()['category']['childseries']:\n",
    "    name = i['name']\n",
    "    series_id = i['series_id']\n",
    "    state_series_wood_ids[name.lstrip(\"Wood and waste energy total consum\").lstrip(\"ption, \")] = series_id"
   ]
  },
  {
   "cell_type": "markdown",
   "metadata": {},
   "source": [
    "##### Fossil Fuels"
   ]
  },
  {
   "cell_type": "code",
   "execution_count": 312,
   "metadata": {},
   "outputs": [],
   "source": [
    "fossils = requests.get(CAT_URL, params={\"api_key\": API_KEY, \"category_id\": 40469})\n",
    "\n",
    "state_series_fossils_ids = {}\n",
    "for i in fossils.json()['category']['childseries']:\n",
    "    name = i['name']\n",
    "    series_id = i['series_id']\n",
    "    state_series_fossils_ids[name.lstrip(\"Fossil fuels total consum\").lstrip(\"ption, \")] = series_id"
   ]
  },
  {
   "cell_type": "markdown",
   "metadata": {},
   "source": [
    "##### Renewable Energy"
   ]
  },
  {
   "cell_type": "code",
   "execution_count": 313,
   "metadata": {},
   "outputs": [],
   "source": [
    "renewables = requests.get(CAT_URL, params={\"api_key\": API_KEY, \"category_id\": 40425})\n",
    "\n",
    "state_series_renewables_ids = {}\n",
    "for i in renewables.json()['category']['childseries']:\n",
    "    name = i['name']\n",
    "    series_id = i['series_id']\n",
    "    state_series_renewables_ids[name.lstrip(\"Renewable energy total consumption, \")] = series_id"
   ]
  },
  {
   "cell_type": "markdown",
   "metadata": {},
   "source": [
    "##### Wrap it all up in a dataframe and graph it"
   ]
  },
  {
   "cell_type": "code",
   "execution_count": 314,
   "metadata": {},
   "outputs": [
    {
     "name": "stdout",
     "output_type": "stream",
     "text": [
      "Working on Total energy\n",
      "Working on Petroleum energy\n",
      "Working on Coal energy\n",
      "Working on Natural Gas energy\n",
      "Working on Solar energy\n",
      "Working on Wind energy\n",
      "Working on Wood energy\n",
      "Working on Fossil Fuels energy\n",
      "Working on Renewables energy\n"
     ]
    }
   ],
   "source": [
    "consumption = pd.DataFrame(columns=[\"State\", \"Year\", \"Total\", \"Petroleum\", \"Coal\", \"Natural Gas\", \"Solar\", \"Wind\", \"Wood\", \"Fossil Fuels\", \"Renewables\"])\n",
    "\n",
    "energy_types = [\"Total\", \"Petroleum\", \"Coal\", \"Natural Gas\", \"Solar\", \"Wind\", \"Wood\", \"Fossil Fuels\", \"Renewables\"]\n",
    "\n",
    "all_ids = [\n",
    "    state_series_tas_ids,\n",
    "    state_series_petrol_ids,\n",
    "    state_series_coal_ids,\n",
    "    state_series_natgas_ids,\n",
    "    state_series_solar_ids,\n",
    "    state_series_wind_ids,\n",
    "    state_series_wood_ids,\n",
    "    state_series_fossils_ids,\n",
    "    state_series_renewables_ids\n",
    "    ]\n",
    "\n",
    "new_data = {i : numpy.NAN for i in [\"State\",\"Year\",\"Total\",\"Petroleum\",\"Coal\",\"Natural Gas\",\"Solar\",\"Wind\",\"Wood\",\"Fossil Fuels\",\"Renewables\"]}\n",
    "\n",
    "for i in range(len(energy_types)):\n",
    "    type = energy_types[i]\n",
    "    id_list = all_ids[i]\n",
    "    print(f\"Working on {type} energy\")\n",
    "\n",
    "    for key,val in id_list.items(): # Loop through all states\n",
    "        state = key\n",
    "        yearly_req = requests.get(SERIES_URL, params={\"api_key\":API_KEY, \"series_id\":val})\n",
    "        yearly_data = yearly_req.json()['series'][-1]['data']  \n",
    "\n",
    "        for i in yearly_data: # Get consumption by year for energy type\n",
    "            year = i[0]\n",
    "            data = i[1]\n",
    "            new_data[type] = data\n",
    "            new_data[\"State\"] = state\n",
    "            new_data[\"Year\"] = year\n",
    "            consumption = consumption.append(new_data,ignore_index=True)\n",
    "            new_data = {}\n",
    "\n",
    "# Clean up the dataframe by combining matching rows and eliminating NAN values.\n",
    "consumption = consumption.groupby([\"State\",\"Year\"])[[\"Total\",\"Petroleum\",\"Coal\",\"Natural Gas\",\"Solar\",\"Wind\",\"Wood\",\"Fossil Fuels\",\"Renewables\"]].first().reset_index()"
   ]
  },
  {
   "cell_type": "code",
   "execution_count": 315,
   "metadata": {},
   "outputs": [
    {
     "data": {
      "application/vnd.plotly.v1+json": {
       "config": {
        "plotlyServerURL": "https://plot.ly"
       },
       "data": [
        {
         "line": {
          "color": "darkslateblue",
          "width": 2
         },
         "mode": "lines",
         "name": "Total",
         "type": "scatter",
         "x": [
          "1960",
          "1961",
          "1962",
          "1963",
          "1964",
          "1965",
          "1966",
          "1967",
          "1968",
          "1969",
          "1970",
          "1971",
          "1972",
          "1973",
          "1974",
          "1975",
          "1976",
          "1977",
          "1978",
          "1979",
          "1980",
          "1981",
          "1982",
          "1983",
          "1984",
          "1985",
          "1986",
          "1987",
          "1988",
          "1989",
          "1990",
          "1991",
          "1992",
          "1993",
          "1994",
          "1995",
          "1996",
          "1997",
          "1998",
          "1999",
          "2000",
          "2001",
          "2002",
          "2003",
          "2004",
          "2005",
          "2006",
          "2007",
          "2008",
          "2009",
          "2010",
          "2011",
          "2012",
          "2013",
          "2014",
          "2015",
          "2016",
          "2017",
          "2018",
          "2019"
         ],
         "y": [
          807277,
          823383,
          860062,
          900608,
          961435,
          996454,
          1058961,
          1112762,
          1210234,
          1296162,
          1294145,
          1320979,
          1462402,
          1498556,
          1494231,
          1458166,
          1506955,
          1524554,
          1616207,
          1667783,
          1636821,
          1762292,
          1667861,
          1624957,
          1724697,
          1724684,
          1758552,
          1810437,
          1947741,
          2013008,
          2078810,
          2072434,
          2105928,
          2105459,
          2094429,
          2141400,
          2117820,
          2149761,
          2229278,
          2316863,
          2248092,
          2029311,
          1876320,
          1880774,
          1943207,
          1977992,
          2084284,
          2049914,
          2041958,
          2031912,
          2007888,
          2051659,
          2011339,
          2035653,
          2008904,
          1995977,
          2056396,
          2075322,
          2054359,
          2078581
         ]
        },
        {
         "line": {
          "color": "darkslategray",
          "width": 2
         },
         "mode": "lines",
         "name": "Petroleum",
         "type": "scatter",
         "x": [
          "1960",
          "1961",
          "1962",
          "1963",
          "1964",
          "1965",
          "1966",
          "1967",
          "1968",
          "1969",
          "1970",
          "1971",
          "1972",
          "1973",
          "1974",
          "1975",
          "1976",
          "1977",
          "1978",
          "1979",
          "1980",
          "1981",
          "1982",
          "1983",
          "1984",
          "1985",
          "1986",
          "1987",
          "1988",
          "1989",
          "1990",
          "1991",
          "1992",
          "1993",
          "1994",
          "1995",
          "1996",
          "1997",
          "1998",
          "1999",
          "2000",
          "2001",
          "2002",
          "2003",
          "2004",
          "2005",
          "2006",
          "2007",
          "2008",
          "2009",
          "2010",
          "2011",
          "2012",
          "2013",
          "2014",
          "2015",
          "2016",
          "2017",
          "2018",
          "2019"
         ],
         "y": [
          356807,
          363073,
          373247,
          379869,
          393136,
          405793,
          432260,
          447725,
          498738,
          516487,
          506713,
          520422,
          555922,
          572821,
          539132,
          548878,
          558392,
          600518,
          621666,
          621007,
          594767,
          600871,
          582011,
          523972,
          598967,
          607438,
          675941,
          701381,
          735378,
          761470,
          763170,
          761591,
          847703,
          759003,
          794789,
          815156,
          820381,
          822643,
          822396,
          848406,
          835014,
          768387,
          736282,
          723154,
          749526,
          768653,
          795563,
          820408,
          766791,
          732873,
          691903,
          694435,
          697521,
          699841,
          683145,
          734235,
          803906,
          772470,
          777958,
          795680
         ]
        },
        {
         "line": {
          "color": "darkturquoise",
          "width": 2
         },
         "mode": "lines",
         "name": "Coal",
         "type": "scatter",
         "x": [
          "1960",
          "1961",
          "1962",
          "1963",
          "1964",
          "1965",
          "1966",
          "1967",
          "1968",
          "1969",
          "1970",
          "1971",
          "1972",
          "1973",
          "1974",
          "1975",
          "1976",
          "1977",
          "1978",
          "1979",
          "1980",
          "1981",
          "1982",
          "1983",
          "1984",
          "1985",
          "1986",
          "1987",
          "1988",
          "1989",
          "1990",
          "1991",
          "1992",
          "1993",
          "1994",
          "1995",
          "1996",
          "1997",
          "1998",
          "1999",
          "2000",
          "2001",
          "2002",
          "2003",
          "2004",
          "2005",
          "2006",
          "2007",
          "2008",
          "2009",
          "2010",
          "2011",
          "2012",
          "2013",
          "2014",
          "2015",
          "2016",
          "2017",
          "2018",
          "2019"
         ],
         "y": [
          15231,
          15709,
          15652,
          13194,
          11827,
          12134,
          11134,
          8265,
          6977,
          7065,
          5860,
          6396,
          36581,
          64974,
          54167,
          76241,
          81205,
          102385,
          84724,
          99003,
          90956,
          90872,
          74069,
          80210,
          82282,
          93669,
          63279,
          95700,
          99099,
          96650,
          85575,
          89085,
          106087,
          97804,
          106884,
          69790,
          90901,
          80465,
          103476,
          96875,
          106240,
          99441,
          100832,
          118207,
          112539,
          112284,
          69150,
          95737,
          94601,
          84048,
          94934,
          56951,
          42656,
          74955,
          76547,
          58273,
          53302,
          61732,
          61166,
          80837
         ]
        },
        {
         "line": {
          "color": "slateblue",
          "width": 2
         },
         "mode": "lines",
         "name": "Natural Gas",
         "type": "scatter",
         "x": [
          "1960",
          "1961",
          "1962",
          "1963",
          "1964",
          "1965",
          "1966",
          "1967",
          "1968",
          "1969",
          "1970",
          "1971",
          "1972",
          "1973",
          "1974",
          "1975",
          "1976",
          "1977",
          "1978",
          "1979",
          "1980",
          "1981",
          "1982",
          "1983",
          "1984",
          "1985",
          "1986",
          "1987",
          "1988",
          "1989",
          "1990",
          "1991",
          "1992",
          "1993",
          "1994",
          "1995",
          "1996",
          "1997",
          "1998",
          "1999",
          "2000",
          "2001",
          "2002",
          "2003",
          "2004",
          "2005",
          "2006",
          "2007",
          "2008",
          "2009",
          "2010",
          "2011",
          "2012",
          "2013",
          "2014",
          "2015",
          "2016",
          "2017",
          "2018",
          "2019"
         ],
         "y": [
          67207,
          72805,
          84281,
          93433,
          113935,
          116216,
          124827,
          135245,
          148065,
          153481,
          158242,
          165279,
          179823,
          207952,
          191311,
          171236,
          154881,
          149077,
          133338,
          165950,
          135466,
          131189,
          114412,
          111802,
          131970,
          139983,
          121793,
          136092,
          150595,
          167988,
          167616,
          179395,
          180769,
          229616,
          263176,
          264474,
          283909,
          268141,
          303307,
          302262,
          297569,
          322413,
          240494,
          255839,
          269572,
          272167,
          271034,
          279429,
          307085,
          319739,
          294871,
          272261,
          271947,
          327840,
          320167,
          327738,
          324929,
          350872,
          334779,
          378200
         ]
        },
        {
         "line": {
          "color": "lightskyblue",
          "width": 2
         },
         "mode": "lines",
         "name": "Solar",
         "type": "scatter",
         "x": [
          "1960",
          "1961",
          "1962",
          "1963",
          "1964",
          "1965",
          "1966",
          "1967",
          "1968",
          "1969",
          "1970",
          "1971",
          "1972",
          "1973",
          "1974",
          "1975",
          "1976",
          "1977",
          "1978",
          "1979",
          "1980",
          "1981",
          "1982",
          "1983",
          "1984",
          "1985",
          "1986",
          "1987",
          "1988",
          "1989",
          "1990",
          "1991",
          "1992",
          "1993",
          "1994",
          "1995",
          "1996",
          "1997",
          "1998",
          "1999",
          "2000",
          "2001",
          "2002",
          "2003",
          "2004",
          "2005",
          "2006",
          "2007",
          "2008",
          "2009",
          "2010",
          "2011",
          "2012",
          "2013",
          "2014",
          "2015",
          "2016",
          "2017",
          "2018",
          "2019"
         ],
         "y": [
          0,
          0,
          0,
          0,
          0,
          0,
          0,
          0,
          0,
          0,
          0,
          0,
          0,
          0,
          0,
          0,
          0,
          0,
          0,
          0,
          0,
          0,
          0,
          0,
          0,
          0,
          0,
          0,
          0,
          354,
          364,
          363,
          372,
          374,
          373,
          370,
          365,
          355,
          342,
          326,
          289,
          263,
          228,
          191,
          155,
          116,
          109,
          102,
          108,
          123,
          155,
          201,
          270,
          337,
          471,
          649,
          957,
          1201,
          1506,
          2341
         ]
        },
        {
         "line": {
          "color": "lightsteelblue",
          "width": 2
         },
         "mode": "lines",
         "name": "Wind",
         "type": "scatter",
         "x": [
          "1960",
          "1961",
          "1962",
          "1963",
          "1964",
          "1965",
          "1966",
          "1967",
          "1968",
          "1969",
          "1970",
          "1971",
          "1972",
          "1973",
          "1974",
          "1975",
          "1976",
          "1977",
          "1978",
          "1979",
          "1980",
          "1981",
          "1982",
          "1983",
          "1984",
          "1985",
          "1986",
          "1987",
          "1988",
          "1989",
          "1990",
          "1991",
          "1992",
          "1993",
          "1994",
          "1995",
          "1996",
          "1997",
          "1998",
          "1999",
          "2000",
          "2001",
          "2002",
          "2003",
          "2004",
          "2005",
          "2006",
          "2007",
          "2008",
          "2009",
          "2010",
          "2011",
          "2012",
          "2013",
          "2014",
          "2015",
          "2016",
          "2017",
          "2018",
          "2019"
         ],
         "y": [
          0,
          0,
          0,
          0,
          0,
          0,
          0,
          0,
          0,
          0,
          0,
          0,
          0,
          0,
          0,
          0,
          0,
          0,
          0,
          0,
          0,
          0,
          0,
          0,
          0,
          0,
          0,
          0,
          0,
          0,
          0,
          0,
          0,
          0,
          0,
          0,
          0,
          0,
          0,
          0,
          0,
          0,
          4238,
          6112,
          7378,
          4984,
          10292,
          24095,
          36041,
          34867,
          46289,
          60845,
          62803,
          66829,
          69117,
          65936,
          74242,
          63801,
          71922,
          59461
         ]
        },
        {
         "line": {
          "color": "midnightblue",
          "width": 2
         },
         "mode": "lines",
         "name": "Wood",
         "type": "scatter",
         "x": [
          "1960",
          "1961",
          "1962",
          "1963",
          "1964",
          "1965",
          "1966",
          "1967",
          "1968",
          "1969",
          "1970",
          "1971",
          "1972",
          "1973",
          "1974",
          "1975",
          "1976",
          "1977",
          "1978",
          "1979",
          "1980",
          "1981",
          "1982",
          "1983",
          "1984",
          "1985",
          "1986",
          "1987",
          "1988",
          "1989",
          "1990",
          "1991",
          "1992",
          "1993",
          "1994",
          "1995",
          "1996",
          "1997",
          "1998",
          "1999",
          "2000",
          "2001",
          "2002",
          "2003",
          "2004",
          "2005",
          "2006",
          "2007",
          "2008",
          "2009",
          "2010",
          "2011",
          "2012",
          "2013",
          "2014",
          "2015",
          "2016",
          "2017",
          "2018",
          "2019"
         ],
         "y": [
          58533,
          57882,
          59084,
          62312,
          65254,
          66250,
          67111,
          63608,
          67282,
          67221,
          66521,
          67168,
          66974,
          66238,
          65173,
          64299,
          71386,
          78315,
          81043,
          77454,
          88272,
          94938,
          91109,
          104439,
          110326,
          112047,
          117727,
          122457,
          127395,
          108226,
          93429,
          73889,
          95374,
          96463,
          96294,
          90131,
          89664,
          94158,
          87123,
          89066,
          89202,
          92656,
          87636,
          95670,
          92552,
          81253,
          103736,
          79080,
          77274,
          84333,
          107572,
          104436,
          101315,
          107981,
          108558,
          113296,
          122777,
          117703,
          116721,
          118352
         ]
        },
        {
         "line": {
          "color": "powderblue",
          "width": 2
         },
         "mode": "lines",
         "name": "Fossil Fuels",
         "type": "scatter",
         "x": [
          "1960",
          "1961",
          "1962",
          "1963",
          "1964",
          "1965",
          "1966",
          "1967",
          "1968",
          "1969",
          "1970",
          "1971",
          "1972",
          "1973",
          "1974",
          "1975",
          "1976",
          "1977",
          "1978",
          "1979",
          "1980",
          "1981",
          "1982",
          "1983",
          "1984",
          "1985",
          "1986",
          "1987",
          "1988",
          "1989",
          "1990",
          "1991",
          "1992",
          "1993",
          "1994",
          "1995",
          "1996",
          "1997",
          "1998",
          "1999",
          "2000",
          "2001",
          "2002",
          "2003",
          "2004",
          "2005",
          "2006",
          "2007",
          "2008",
          "2009",
          "2010",
          "2011",
          "2012",
          "2013",
          "2014",
          "2015",
          "2016",
          "2017",
          "2018",
          "2019"
         ],
         "y": [
          439245,
          451586,
          473181,
          486497,
          518898,
          534143,
          568221,
          591236,
          653780,
          677034,
          670815,
          692097,
          772326,
          845747,
          784610,
          796355,
          794478,
          851980,
          839729,
          885960,
          821173,
          822918,
          770477,
          715973,
          813208,
          841081,
          861003,
          933153,
          984991,
          1025949,
          1016175,
          1029913,
          1134373,
          1086419,
          1164849,
          1149421,
          1195191,
          1171249,
          1229179,
          1247543,
          1238823,
          1190241,
          1077607,
          1097200,
          1131637,
          1153104,
          1135747,
          1195574,
          1168477,
          1136661,
          1081707,
          1023648,
          1012124,
          1102636,
          1079859,
          1120246,
          1182137,
          1185075,
          1173903,
          1254718
         ]
        },
        {
         "line": {
          "color": "mediumaquamarine",
          "width": 2
         },
         "mode": "lines",
         "name": "Renewables",
         "type": "scatter",
         "x": [
          "1960",
          "1961",
          "1962",
          "1963",
          "1964",
          "1965",
          "1966",
          "1967",
          "1968",
          "1969",
          "1970",
          "1971",
          "1972",
          "1973",
          "1974",
          "1975",
          "1976",
          "1977",
          "1978",
          "1979",
          "1980",
          "1981",
          "1982",
          "1983",
          "1984",
          "1985",
          "1986",
          "1987",
          "1988",
          "1989",
          "1990",
          "1991",
          "1992",
          "1993",
          "1994",
          "1995",
          "1996",
          "1997",
          "1998",
          "1999",
          "2000",
          "2001",
          "2002",
          "2003",
          "2004",
          "2005",
          "2006",
          "2007",
          "2008",
          "2009",
          "2010",
          "2011",
          "2012",
          "2013",
          "2014",
          "2015",
          "2016",
          "2017",
          "2018",
          "2019"
         ],
         "y": [
          428129,
          455762,
          476680,
          514264,
          557343,
          581530,
          617245,
          678045,
          736245,
          772827,
          796121,
          817275,
          854559,
          783243,
          926539,
          935362,
          1051188,
          773465,
          1002202,
          900631,
          951633,
          1074536,
          1008174,
          1004891,
          981713,
          917386,
          943085,
          850807,
          835500,
          855805,
          1004696,
          1007895,
          806664,
          797958,
          781385,
          944237,
          1110151,
          1160946,
          904688,
          1084122,
          911481,
          660975,
          893664,
          834753,
          819551,
          815363,
          937172,
          894490,
          898118,
          853813,
          839887,
          1080057,
          1036984,
          942925,
          957379,
          892136,
          949317,
          968130,
          955811,
          797959
         ]
        }
       ],
       "layout": {
        "template": {
         "data": {
          "bar": [
           {
            "error_x": {
             "color": "#2a3f5f"
            },
            "error_y": {
             "color": "#2a3f5f"
            },
            "marker": {
             "line": {
              "color": "#E5ECF6",
              "width": 0.5
             }
            },
            "type": "bar"
           }
          ],
          "barpolar": [
           {
            "marker": {
             "line": {
              "color": "#E5ECF6",
              "width": 0.5
             }
            },
            "type": "barpolar"
           }
          ],
          "carpet": [
           {
            "aaxis": {
             "endlinecolor": "#2a3f5f",
             "gridcolor": "white",
             "linecolor": "white",
             "minorgridcolor": "white",
             "startlinecolor": "#2a3f5f"
            },
            "baxis": {
             "endlinecolor": "#2a3f5f",
             "gridcolor": "white",
             "linecolor": "white",
             "minorgridcolor": "white",
             "startlinecolor": "#2a3f5f"
            },
            "type": "carpet"
           }
          ],
          "choropleth": [
           {
            "colorbar": {
             "outlinewidth": 0,
             "ticks": ""
            },
            "type": "choropleth"
           }
          ],
          "contour": [
           {
            "colorbar": {
             "outlinewidth": 0,
             "ticks": ""
            },
            "colorscale": [
             [
              0,
              "#0d0887"
             ],
             [
              0.1111111111111111,
              "#46039f"
             ],
             [
              0.2222222222222222,
              "#7201a8"
             ],
             [
              0.3333333333333333,
              "#9c179e"
             ],
             [
              0.4444444444444444,
              "#bd3786"
             ],
             [
              0.5555555555555556,
              "#d8576b"
             ],
             [
              0.6666666666666666,
              "#ed7953"
             ],
             [
              0.7777777777777778,
              "#fb9f3a"
             ],
             [
              0.8888888888888888,
              "#fdca26"
             ],
             [
              1,
              "#f0f921"
             ]
            ],
            "type": "contour"
           }
          ],
          "contourcarpet": [
           {
            "colorbar": {
             "outlinewidth": 0,
             "ticks": ""
            },
            "type": "contourcarpet"
           }
          ],
          "heatmap": [
           {
            "colorbar": {
             "outlinewidth": 0,
             "ticks": ""
            },
            "colorscale": [
             [
              0,
              "#0d0887"
             ],
             [
              0.1111111111111111,
              "#46039f"
             ],
             [
              0.2222222222222222,
              "#7201a8"
             ],
             [
              0.3333333333333333,
              "#9c179e"
             ],
             [
              0.4444444444444444,
              "#bd3786"
             ],
             [
              0.5555555555555556,
              "#d8576b"
             ],
             [
              0.6666666666666666,
              "#ed7953"
             ],
             [
              0.7777777777777778,
              "#fb9f3a"
             ],
             [
              0.8888888888888888,
              "#fdca26"
             ],
             [
              1,
              "#f0f921"
             ]
            ],
            "type": "heatmap"
           }
          ],
          "heatmapgl": [
           {
            "colorbar": {
             "outlinewidth": 0,
             "ticks": ""
            },
            "colorscale": [
             [
              0,
              "#0d0887"
             ],
             [
              0.1111111111111111,
              "#46039f"
             ],
             [
              0.2222222222222222,
              "#7201a8"
             ],
             [
              0.3333333333333333,
              "#9c179e"
             ],
             [
              0.4444444444444444,
              "#bd3786"
             ],
             [
              0.5555555555555556,
              "#d8576b"
             ],
             [
              0.6666666666666666,
              "#ed7953"
             ],
             [
              0.7777777777777778,
              "#fb9f3a"
             ],
             [
              0.8888888888888888,
              "#fdca26"
             ],
             [
              1,
              "#f0f921"
             ]
            ],
            "type": "heatmapgl"
           }
          ],
          "histogram": [
           {
            "marker": {
             "colorbar": {
              "outlinewidth": 0,
              "ticks": ""
             }
            },
            "type": "histogram"
           }
          ],
          "histogram2d": [
           {
            "colorbar": {
             "outlinewidth": 0,
             "ticks": ""
            },
            "colorscale": [
             [
              0,
              "#0d0887"
             ],
             [
              0.1111111111111111,
              "#46039f"
             ],
             [
              0.2222222222222222,
              "#7201a8"
             ],
             [
              0.3333333333333333,
              "#9c179e"
             ],
             [
              0.4444444444444444,
              "#bd3786"
             ],
             [
              0.5555555555555556,
              "#d8576b"
             ],
             [
              0.6666666666666666,
              "#ed7953"
             ],
             [
              0.7777777777777778,
              "#fb9f3a"
             ],
             [
              0.8888888888888888,
              "#fdca26"
             ],
             [
              1,
              "#f0f921"
             ]
            ],
            "type": "histogram2d"
           }
          ],
          "histogram2dcontour": [
           {
            "colorbar": {
             "outlinewidth": 0,
             "ticks": ""
            },
            "colorscale": [
             [
              0,
              "#0d0887"
             ],
             [
              0.1111111111111111,
              "#46039f"
             ],
             [
              0.2222222222222222,
              "#7201a8"
             ],
             [
              0.3333333333333333,
              "#9c179e"
             ],
             [
              0.4444444444444444,
              "#bd3786"
             ],
             [
              0.5555555555555556,
              "#d8576b"
             ],
             [
              0.6666666666666666,
              "#ed7953"
             ],
             [
              0.7777777777777778,
              "#fb9f3a"
             ],
             [
              0.8888888888888888,
              "#fdca26"
             ],
             [
              1,
              "#f0f921"
             ]
            ],
            "type": "histogram2dcontour"
           }
          ],
          "mesh3d": [
           {
            "colorbar": {
             "outlinewidth": 0,
             "ticks": ""
            },
            "type": "mesh3d"
           }
          ],
          "parcoords": [
           {
            "line": {
             "colorbar": {
              "outlinewidth": 0,
              "ticks": ""
             }
            },
            "type": "parcoords"
           }
          ],
          "pie": [
           {
            "automargin": true,
            "type": "pie"
           }
          ],
          "scatter": [
           {
            "marker": {
             "colorbar": {
              "outlinewidth": 0,
              "ticks": ""
             }
            },
            "type": "scatter"
           }
          ],
          "scatter3d": [
           {
            "line": {
             "colorbar": {
              "outlinewidth": 0,
              "ticks": ""
             }
            },
            "marker": {
             "colorbar": {
              "outlinewidth": 0,
              "ticks": ""
             }
            },
            "type": "scatter3d"
           }
          ],
          "scattercarpet": [
           {
            "marker": {
             "colorbar": {
              "outlinewidth": 0,
              "ticks": ""
             }
            },
            "type": "scattercarpet"
           }
          ],
          "scattergeo": [
           {
            "marker": {
             "colorbar": {
              "outlinewidth": 0,
              "ticks": ""
             }
            },
            "type": "scattergeo"
           }
          ],
          "scattergl": [
           {
            "marker": {
             "colorbar": {
              "outlinewidth": 0,
              "ticks": ""
             }
            },
            "type": "scattergl"
           }
          ],
          "scattermapbox": [
           {
            "marker": {
             "colorbar": {
              "outlinewidth": 0,
              "ticks": ""
             }
            },
            "type": "scattermapbox"
           }
          ],
          "scatterpolar": [
           {
            "marker": {
             "colorbar": {
              "outlinewidth": 0,
              "ticks": ""
             }
            },
            "type": "scatterpolar"
           }
          ],
          "scatterpolargl": [
           {
            "marker": {
             "colorbar": {
              "outlinewidth": 0,
              "ticks": ""
             }
            },
            "type": "scatterpolargl"
           }
          ],
          "scatterternary": [
           {
            "marker": {
             "colorbar": {
              "outlinewidth": 0,
              "ticks": ""
             }
            },
            "type": "scatterternary"
           }
          ],
          "surface": [
           {
            "colorbar": {
             "outlinewidth": 0,
             "ticks": ""
            },
            "colorscale": [
             [
              0,
              "#0d0887"
             ],
             [
              0.1111111111111111,
              "#46039f"
             ],
             [
              0.2222222222222222,
              "#7201a8"
             ],
             [
              0.3333333333333333,
              "#9c179e"
             ],
             [
              0.4444444444444444,
              "#bd3786"
             ],
             [
              0.5555555555555556,
              "#d8576b"
             ],
             [
              0.6666666666666666,
              "#ed7953"
             ],
             [
              0.7777777777777778,
              "#fb9f3a"
             ],
             [
              0.8888888888888888,
              "#fdca26"
             ],
             [
              1,
              "#f0f921"
             ]
            ],
            "type": "surface"
           }
          ],
          "table": [
           {
            "cells": {
             "fill": {
              "color": "#EBF0F8"
             },
             "line": {
              "color": "white"
             }
            },
            "header": {
             "fill": {
              "color": "#C8D4E3"
             },
             "line": {
              "color": "white"
             }
            },
            "type": "table"
           }
          ]
         },
         "layout": {
          "annotationdefaults": {
           "arrowcolor": "#2a3f5f",
           "arrowhead": 0,
           "arrowwidth": 1
          },
          "autotypenumbers": "strict",
          "coloraxis": {
           "colorbar": {
            "outlinewidth": 0,
            "ticks": ""
           }
          },
          "colorscale": {
           "diverging": [
            [
             0,
             "#8e0152"
            ],
            [
             0.1,
             "#c51b7d"
            ],
            [
             0.2,
             "#de77ae"
            ],
            [
             0.3,
             "#f1b6da"
            ],
            [
             0.4,
             "#fde0ef"
            ],
            [
             0.5,
             "#f7f7f7"
            ],
            [
             0.6,
             "#e6f5d0"
            ],
            [
             0.7,
             "#b8e186"
            ],
            [
             0.8,
             "#7fbc41"
            ],
            [
             0.9,
             "#4d9221"
            ],
            [
             1,
             "#276419"
            ]
           ],
           "sequential": [
            [
             0,
             "#0d0887"
            ],
            [
             0.1111111111111111,
             "#46039f"
            ],
            [
             0.2222222222222222,
             "#7201a8"
            ],
            [
             0.3333333333333333,
             "#9c179e"
            ],
            [
             0.4444444444444444,
             "#bd3786"
            ],
            [
             0.5555555555555556,
             "#d8576b"
            ],
            [
             0.6666666666666666,
             "#ed7953"
            ],
            [
             0.7777777777777778,
             "#fb9f3a"
            ],
            [
             0.8888888888888888,
             "#fdca26"
            ],
            [
             1,
             "#f0f921"
            ]
           ],
           "sequentialminus": [
            [
             0,
             "#0d0887"
            ],
            [
             0.1111111111111111,
             "#46039f"
            ],
            [
             0.2222222222222222,
             "#7201a8"
            ],
            [
             0.3333333333333333,
             "#9c179e"
            ],
            [
             0.4444444444444444,
             "#bd3786"
            ],
            [
             0.5555555555555556,
             "#d8576b"
            ],
            [
             0.6666666666666666,
             "#ed7953"
            ],
            [
             0.7777777777777778,
             "#fb9f3a"
            ],
            [
             0.8888888888888888,
             "#fdca26"
            ],
            [
             1,
             "#f0f921"
            ]
           ]
          },
          "colorway": [
           "#636efa",
           "#EF553B",
           "#00cc96",
           "#ab63fa",
           "#FFA15A",
           "#19d3f3",
           "#FF6692",
           "#B6E880",
           "#FF97FF",
           "#FECB52"
          ],
          "font": {
           "color": "#2a3f5f"
          },
          "geo": {
           "bgcolor": "white",
           "lakecolor": "white",
           "landcolor": "#E5ECF6",
           "showlakes": true,
           "showland": true,
           "subunitcolor": "white"
          },
          "hoverlabel": {
           "align": "left"
          },
          "hovermode": "closest",
          "mapbox": {
           "style": "light"
          },
          "paper_bgcolor": "white",
          "plot_bgcolor": "#E5ECF6",
          "polar": {
           "angularaxis": {
            "gridcolor": "white",
            "linecolor": "white",
            "ticks": ""
           },
           "bgcolor": "#E5ECF6",
           "radialaxis": {
            "gridcolor": "white",
            "linecolor": "white",
            "ticks": ""
           }
          },
          "scene": {
           "xaxis": {
            "backgroundcolor": "#E5ECF6",
            "gridcolor": "white",
            "gridwidth": 2,
            "linecolor": "white",
            "showbackground": true,
            "ticks": "",
            "zerolinecolor": "white"
           },
           "yaxis": {
            "backgroundcolor": "#E5ECF6",
            "gridcolor": "white",
            "gridwidth": 2,
            "linecolor": "white",
            "showbackground": true,
            "ticks": "",
            "zerolinecolor": "white"
           },
           "zaxis": {
            "backgroundcolor": "#E5ECF6",
            "gridcolor": "white",
            "gridwidth": 2,
            "linecolor": "white",
            "showbackground": true,
            "ticks": "",
            "zerolinecolor": "white"
           }
          },
          "shapedefaults": {
           "line": {
            "color": "#2a3f5f"
           }
          },
          "ternary": {
           "aaxis": {
            "gridcolor": "white",
            "linecolor": "white",
            "ticks": ""
           },
           "baxis": {
            "gridcolor": "white",
            "linecolor": "white",
            "ticks": ""
           },
           "bgcolor": "#E5ECF6",
           "caxis": {
            "gridcolor": "white",
            "linecolor": "white",
            "ticks": ""
           }
          },
          "title": {
           "x": 0.05
          },
          "xaxis": {
           "automargin": true,
           "gridcolor": "white",
           "linecolor": "white",
           "ticks": "",
           "title": {
            "standoff": 15
           },
           "zerolinecolor": "white",
           "zerolinewidth": 2
          },
          "yaxis": {
           "automargin": true,
           "gridcolor": "white",
           "linecolor": "white",
           "ticks": "",
           "title": {
            "standoff": 15
           },
           "zerolinecolor": "white",
           "zerolinewidth": 2
          }
         }
        },
        "title": {
         "text": "Annual Energy Consumption, Billion Btus - Washington"
        },
        "xaxis": {
         "rangeselector": {
          "buttons": [
           {
            "count": 10,
            "label": "10Y",
            "step": "year",
            "stepmode": "backward"
           },
           {
            "count": 1,
            "label": "1y",
            "step": "year",
            "stepmode": "backward"
           },
           {
            "step": "all"
           }
          ]
         },
         "rangeslider": {
          "visible": true
         },
         "type": "date"
        }
       }
      }
     },
     "metadata": {},
     "output_type": "display_data"
    }
   ],
   "source": [
    "state = \"Washington\"\n",
    "filter = consumption[\"State\"] == state\n",
    "ex = consumption[filter]\n",
    "fig = go.Figure()\n",
    "\n",
    "colors = ['darkslateblue', 'darkslategray', 'darkturquoise', 'slateblue','lightskyblue','lightsteelblue','midnightblue','powderblue','mediumaquamarine']\n",
    "\n",
    "for i in range(0,len(energy_types)):\n",
    "    fig.add_trace(\n",
    "        go.Scatter(x=list(ex.Year),\n",
    "         y=list(ex[energy_types[i]]),\n",
    "         name=energy_types[i],\n",
    "         mode = \"lines\",\n",
    "         line = dict(width=2,color=colors[i])\n",
    "        )\n",
    "    )\n",
    "\n",
    "# Set title\n",
    "fig.update_layout(\n",
    "    title_text=f\"Annual Energy Consumption, Billion Btus - {state}\"\n",
    ")\n",
    "\n",
    "# Add range slider\n",
    "fig.update_layout(\n",
    "    xaxis=dict(\n",
    "        rangeselector=dict(\n",
    "            buttons=list([\n",
    "                dict(count=10,\n",
    "                     label=\"10Y\",\n",
    "                     step=\"year\",\n",
    "                     stepmode=\"backward\"),\n",
    "                dict(count=1,\n",
    "                     label=\"1y\",\n",
    "                     step=\"year\",\n",
    "                     stepmode=\"backward\"),\n",
    "                dict(step=\"all\")\n",
    "            ])\n",
    "        ),\n",
    "        rangeslider=dict(\n",
    "            visible=True\n",
    "        ),\n",
    "        type=\"date\"\n",
    "    )\n",
    ")\n",
    "\n",
    "fig.show()"
   ]
  },
  {
   "cell_type": "markdown",
   "metadata": {},
   "source": [
    "#### Production"
   ]
  },
  {
   "cell_type": "code",
   "execution_count": 316,
   "metadata": {},
   "outputs": [
    {
     "name": "stdout",
     "output_type": "stream",
     "text": [
      "{'request': {'category_id': 40207, 'command': 'category'}, 'category': {'category_id': '40207', 'parent_category_id': '40203', 'name': 'Production', 'notes': '', 'childcategories': [{'category_id': 40910, 'name': 'Coal'}, {'category_id': 40911, 'name': 'Crude Oil including Lease Condensate'}, {'category_id': 40912, 'name': 'Nuclear Power'}, {'category_id': 40913, 'name': 'Natural Gas Marketed'}, {'category_id': 40426, 'name': 'Renewable Energy'}], 'childseries': [{'series_id': 'SEDS.TEPRB.AK.A', 'name': 'Total primary energy production, Alaska', 'f': 'A', 'units': 'Billion Btu', 'updated': '24-JUN-21 07.42.03 PM'}, {'series_id': 'SEDS.TEPRB.AL.A', 'name': 'Total primary energy production, Alabama', 'f': 'A', 'units': 'Billion Btu', 'updated': '24-JUN-21 07.42.03 PM'}, {'series_id': 'SEDS.TEPRB.AR.A', 'name': 'Total primary energy production, Arkansas', 'f': 'A', 'units': 'Billion Btu', 'updated': '24-JUN-21 07.42.03 PM'}, {'series_id': 'SEDS.TEPRB.AZ.A', 'name': 'Total primary energy production, Arizona', 'f': 'A', 'units': 'Billion Btu', 'updated': '24-JUN-21 07.42.03 PM'}, {'series_id': 'SEDS.TEPRB.CA.A', 'name': 'Total primary energy production, California', 'f': 'A', 'units': 'Billion Btu', 'updated': '24-JUN-21 07.42.03 PM'}, {'series_id': 'SEDS.TEPRB.CO.A', 'name': 'Total primary energy production, Colorado', 'f': 'A', 'units': 'Billion Btu', 'updated': '24-JUN-21 07.42.03 PM'}, {'series_id': 'SEDS.TEPRB.CT.A', 'name': 'Total primary energy production, Connecticut', 'f': 'A', 'units': 'Billion Btu', 'updated': '24-JUN-21 07.42.03 PM'}, {'series_id': 'SEDS.TEPRB.DC.A', 'name': 'Total primary energy production, District of Columbia', 'f': 'A', 'units': 'Billion Btu', 'updated': '24-JUN-21 07.42.03 PM'}, {'series_id': 'SEDS.TEPRB.DE.A', 'name': 'Total primary energy production, Delaware', 'f': 'A', 'units': 'Billion Btu', 'updated': '24-JUN-21 07.42.03 PM'}, {'series_id': 'SEDS.TEPRB.FL.A', 'name': 'Total primary energy production, Florida', 'f': 'A', 'units': 'Billion Btu', 'updated': '24-JUN-21 07.42.03 PM'}, {'series_id': 'SEDS.TEPRB.GA.A', 'name': 'Total primary energy production, Georgia', 'f': 'A', 'units': 'Billion Btu', 'updated': '24-JUN-21 07.42.03 PM'}, {'series_id': 'SEDS.TEPRB.HI.A', 'name': 'Total primary energy production, Hawaii', 'f': 'A', 'units': 'Billion Btu', 'updated': '24-JUN-21 07.42.03 PM'}, {'series_id': 'SEDS.TEPRB.IA.A', 'name': 'Total primary energy production, Iowa', 'f': 'A', 'units': 'Billion Btu', 'updated': '24-JUN-21 07.42.03 PM'}, {'series_id': 'SEDS.TEPRB.ID.A', 'name': 'Total primary energy production, Idaho', 'f': 'A', 'units': 'Billion Btu', 'updated': '24-JUN-21 07.42.03 PM'}, {'series_id': 'SEDS.TEPRB.IL.A', 'name': 'Total primary energy production, Illinois', 'f': 'A', 'units': 'Billion Btu', 'updated': '24-JUN-21 07.42.03 PM'}, {'series_id': 'SEDS.TEPRB.IN.A', 'name': 'Total primary energy production, Indiana', 'f': 'A', 'units': 'Billion Btu', 'updated': '24-JUN-21 07.42.03 PM'}, {'series_id': 'SEDS.TEPRB.KS.A', 'name': 'Total primary energy production, Kansas', 'f': 'A', 'units': 'Billion Btu', 'updated': '24-JUN-21 07.42.03 PM'}, {'series_id': 'SEDS.TEPRB.KY.A', 'name': 'Total primary energy production, Kentucky', 'f': 'A', 'units': 'Billion Btu', 'updated': '24-JUN-21 07.42.03 PM'}, {'series_id': 'SEDS.TEPRB.LA.A', 'name': 'Total primary energy production, Louisiana', 'f': 'A', 'units': 'Billion Btu', 'updated': '24-JUN-21 07.42.03 PM'}, {'series_id': 'SEDS.TEPRB.MA.A', 'name': 'Total primary energy production, Massachusetts', 'f': 'A', 'units': 'Billion Btu', 'updated': '24-JUN-21 07.42.03 PM'}, {'series_id': 'SEDS.TEPRB.MD.A', 'name': 'Total primary energy production, Maryland', 'f': 'A', 'units': 'Billion Btu', 'updated': '24-JUN-21 07.42.03 PM'}, {'series_id': 'SEDS.TEPRB.ME.A', 'name': 'Total primary energy production, Maine', 'f': 'A', 'units': 'Billion Btu', 'updated': '24-JUN-21 07.42.03 PM'}, {'series_id': 'SEDS.TEPRB.MI.A', 'name': 'Total primary energy production, Michigan', 'f': 'A', 'units': 'Billion Btu', 'updated': '24-JUN-21 07.42.03 PM'}, {'series_id': 'SEDS.TEPRB.MN.A', 'name': 'Total primary energy production, Minnesota', 'f': 'A', 'units': 'Billion Btu', 'updated': '24-JUN-21 07.42.03 PM'}, {'series_id': 'SEDS.TEPRB.MO.A', 'name': 'Total primary energy production, Missouri', 'f': 'A', 'units': 'Billion Btu', 'updated': '24-JUN-21 07.42.03 PM'}, {'series_id': 'SEDS.TEPRB.MS.A', 'name': 'Total primary energy production, Mississippi', 'f': 'A', 'units': 'Billion Btu', 'updated': '24-JUN-21 07.42.03 PM'}, {'series_id': 'SEDS.TEPRB.MT.A', 'name': 'Total primary energy production, Montana', 'f': 'A', 'units': 'Billion Btu', 'updated': '24-JUN-21 07.42.03 PM'}, {'series_id': 'SEDS.TEPRB.NC.A', 'name': 'Total primary energy production, North Carolina', 'f': 'A', 'units': 'Billion Btu', 'updated': '24-JUN-21 07.42.03 PM'}, {'series_id': 'SEDS.TEPRB.ND.A', 'name': 'Total primary energy production, North Dakota', 'f': 'A', 'units': 'Billion Btu', 'updated': '24-JUN-21 07.42.03 PM'}, {'series_id': 'SEDS.TEPRB.NE.A', 'name': 'Total primary energy production, Nebraska', 'f': 'A', 'units': 'Billion Btu', 'updated': '24-JUN-21 07.42.03 PM'}, {'series_id': 'SEDS.TEPRB.NH.A', 'name': 'Total primary energy production, New Hampshire', 'f': 'A', 'units': 'Billion Btu', 'updated': '24-JUN-21 07.42.03 PM'}, {'series_id': 'SEDS.TEPRB.NJ.A', 'name': 'Total primary energy production, New Jersey', 'f': 'A', 'units': 'Billion Btu', 'updated': '24-JUN-21 07.42.03 PM'}, {'series_id': 'SEDS.TEPRB.NM.A', 'name': 'Total primary energy production, New Mexico', 'f': 'A', 'units': 'Billion Btu', 'updated': '24-JUN-21 07.42.03 PM'}, {'series_id': 'SEDS.TEPRB.NV.A', 'name': 'Total primary energy production, Nevada', 'f': 'A', 'units': 'Billion Btu', 'updated': '24-JUN-21 07.42.03 PM'}, {'series_id': 'SEDS.TEPRB.NY.A', 'name': 'Total primary energy production, New York', 'f': 'A', 'units': 'Billion Btu', 'updated': '24-JUN-21 07.42.03 PM'}, {'series_id': 'SEDS.TEPRB.OH.A', 'name': 'Total primary energy production, Ohio', 'f': 'A', 'units': 'Billion Btu', 'updated': '24-JUN-21 07.42.03 PM'}, {'series_id': 'SEDS.TEPRB.OK.A', 'name': 'Total primary energy production, Oklahoma', 'f': 'A', 'units': 'Billion Btu', 'updated': '24-JUN-21 07.42.03 PM'}, {'series_id': 'SEDS.TEPRB.OR.A', 'name': 'Total primary energy production, Oregon', 'f': 'A', 'units': 'Billion Btu', 'updated': '24-JUN-21 07.42.03 PM'}, {'series_id': 'SEDS.TEPRB.PA.A', 'name': 'Total primary energy production, Pennsylvania', 'f': 'A', 'units': 'Billion Btu', 'updated': '24-JUN-21 07.42.03 PM'}, {'series_id': 'SEDS.TEPRB.RI.A', 'name': 'Total primary energy production, Rhode Island', 'f': 'A', 'units': 'Billion Btu', 'updated': '24-JUN-21 07.42.03 PM'}, {'series_id': 'SEDS.TEPRB.SC.A', 'name': 'Total primary energy production, South Carolina', 'f': 'A', 'units': 'Billion Btu', 'updated': '24-JUN-21 07.42.03 PM'}, {'series_id': 'SEDS.TEPRB.SD.A', 'name': 'Total primary energy production, South Dakota', 'f': 'A', 'units': 'Billion Btu', 'updated': '24-JUN-21 07.42.03 PM'}, {'series_id': 'SEDS.TEPRB.TN.A', 'name': 'Total primary energy production, Tennessee', 'f': 'A', 'units': 'Billion Btu', 'updated': '24-JUN-21 07.42.03 PM'}, {'series_id': 'SEDS.TEPRB.TX.A', 'name': 'Total primary energy production, Texas', 'f': 'A', 'units': 'Billion Btu', 'updated': '24-JUN-21 07.42.03 PM'}, {'series_id': 'SEDS.TEPRB.US.A', 'name': 'Total primary energy production, United States', 'f': 'A', 'units': 'Billion Btu', 'updated': '24-JUN-21 07.42.03 PM'}, {'series_id': 'SEDS.TEPRB.UT.A', 'name': 'Total primary energy production, Utah', 'f': 'A', 'units': 'Billion Btu', 'updated': '24-JUN-21 07.42.03 PM'}, {'series_id': 'SEDS.TEPRB.VA.A', 'name': 'Total primary energy production, Virginia', 'f': 'A', 'units': 'Billion Btu', 'updated': '24-JUN-21 07.42.03 PM'}, {'series_id': 'SEDS.TEPRB.VT.A', 'name': 'Total primary energy production, Vermont', 'f': 'A', 'units': 'Billion Btu', 'updated': '24-JUN-21 07.42.03 PM'}, {'series_id': 'SEDS.TEPRB.WA.A', 'name': 'Total primary energy production, Washington', 'f': 'A', 'units': 'Billion Btu', 'updated': '24-JUN-21 07.42.03 PM'}, {'series_id': 'SEDS.TEPRB.WI.A', 'name': 'Total primary energy production, Wisconsin', 'f': 'A', 'units': 'Billion Btu', 'updated': '24-JUN-21 07.42.03 PM'}, {'series_id': 'SEDS.TEPRB.WV.A', 'name': 'Total primary energy production, West Virginia', 'f': 'A', 'units': 'Billion Btu', 'updated': '24-JUN-21 07.42.03 PM'}, {'series_id': 'SEDS.TEPRB.WY.A', 'name': 'Total primary energy production, Wyoming', 'f': 'A', 'units': 'Billion Btu', 'updated': '24-JUN-21 07.42.03 PM'}, {'series_id': 'SEDS.TEPRB.X3.A', 'name': 'Total primary energy production, Federal Offshore - Gulf of Mexico', 'f': 'A', 'units': 'Billion Btu', 'updated': '19-NOV-21 09.52.20 AM'}, {'series_id': 'SEDS.TEPRB.X5.A', 'name': 'Total primary energy production, Federal Offshore - Pacific', 'f': 'A', 'units': 'Billion Btu', 'updated': '24-JUN-21 07.42.03 PM'}]}}\n"
     ]
    }
   ],
   "source": [
    "response = requests.get(CAT_URL, params={\"api_key\":API_KEY, \"category_id\":40207})\n",
    "print(response.json())\n"
   ]
  },
  {
   "cell_type": "markdown",
   "metadata": {},
   "source": [
    "#### GDP"
   ]
  },
  {
   "cell_type": "code",
   "execution_count": 317,
   "metadata": {},
   "outputs": [],
   "source": [
    "energy = {\n",
    "    \"Alaska\": {\n",
    "        \"Total Produced\":0,\n",
    "        \"Total Consumed\":0\n",
    "    },\n",
    "    \"Alabama\": {\n",
    "        \"Total Produced\":0,\n",
    "        \"Total Consumed\":0\n",
    "    }\n",
    "}"
   ]
  },
  {
   "cell_type": "code",
   "execution_count": 318,
   "metadata": {},
   "outputs": [],
   "source": [
    "import plotly.graph_objects as go"
   ]
  },
  {
   "cell_type": "code",
   "execution_count": 319,
   "metadata": {},
   "outputs": [
    {
     "data": {
      "application/vnd.plotly.v1+json": {
       "config": {
        "plotlyServerURL": "https://plot.ly"
       },
       "data": [
        {
         "name": "Total",
         "type": "scatter",
         "x": [
          "1960",
          "1961",
          "1962",
          "1963",
          "1964",
          "1965",
          "1966",
          "1967",
          "1968",
          "1969",
          "1970",
          "1971",
          "1972",
          "1973",
          "1974",
          "1975",
          "1976",
          "1977",
          "1978",
          "1979",
          "1980",
          "1981",
          "1982",
          "1983",
          "1984",
          "1985",
          "1986",
          "1987",
          "1988",
          "1989",
          "1990",
          "1991",
          "1992",
          "1993",
          "1994",
          "1995",
          "1996",
          "1997",
          "1998",
          "1999",
          "2000",
          "2001",
          "2002",
          "2003",
          "2004",
          "2005",
          "2006",
          "2007",
          "2008",
          "2009",
          "2010",
          "2011",
          "2012",
          "2013",
          "2014",
          "2015",
          "2016",
          "2017",
          "2018",
          "2019"
         ],
         "y": [
          45033606,
          45684153,
          47773067,
          49605630,
          51766732,
          53965864,
          56960904,
          58916870,
          62401694,
          65578920,
          67720114,
          69163993,
          72677208,
          75723857,
          73914525,
          71953031,
          75966653,
          77946963,
          79978066,
          80835915,
          78047519,
          76093624,
          73006067,
          72879382,
          76510942,
          76406632,
          76592009,
          78960216,
          82711222,
          84731901,
          84455290,
          84379011,
          85731655,
          87294876,
          89010843,
          90994772,
          94005089,
          94656462,
          94933435,
          96525795,
          98694694,
          96039230,
          97542436,
          97834861,
          100013808,
          100109417,
          99387992,
          100916033,
          98764639,
          93969365,
          97512536,
          96866635,
          94363473,
          97101305,
          98270056,
          97363821,
          97330844,
          97602434,
          101161574,
          100266080
         ]
        },
        {
         "name": "Petroleum",
         "type": "scatter",
         "x": [
          "1960",
          "1961",
          "1962",
          "1963",
          "1964",
          "1965",
          "1966",
          "1967",
          "1968",
          "1969",
          "1970",
          "1971",
          "1972",
          "1973",
          "1974",
          "1975",
          "1976",
          "1977",
          "1978",
          "1979",
          "1980",
          "1981",
          "1982",
          "1983",
          "1984",
          "1985",
          "1986",
          "1987",
          "1988",
          "1989",
          "1990",
          "1991",
          "1992",
          "1993",
          "1994",
          "1995",
          "1996",
          "1997",
          "1998",
          "1999",
          "2000",
          "2001",
          "2002",
          "2003",
          "2004",
          "2005",
          "2006",
          "2007",
          "2008",
          "2009",
          "2010",
          "2011",
          "2012",
          "2013",
          "2014",
          "2015",
          "2016",
          "2017",
          "2018",
          "2019"
         ],
         "y": [
          19873652,
          20168040,
          20997481,
          21644489,
          22240249,
          23183963,
          24334435,
          25272517,
          26964864,
          28321627,
          29500112,
          30541454,
          32919160,
          34806025,
          33420613,
          32698781,
          35141985,
          37082642,
          37919119,
          37075744,
          34159533,
          31884079,
          30179518,
          29997230,
          30993084,
          30867287,
          32150914,
          32818384,
          34173609,
          34164741,
          33500896,
          32790251,
          33468926,
          33591507,
          34457681,
          34345586,
          35592566,
          36069260,
          36724106,
          37736847,
          38156681,
          38087631,
          38122145,
          38713457,
          40148362,
          40227276,
          39743329,
          39383775,
          36791612,
          34801119,
          35332362,
          34638461,
          33833231,
          34428895,
          34686912,
          35402289,
          35745211,
          36072612,
          36911537,
          36885065
         ]
        },
        {
         "name": "Coal",
         "type": "scatter",
         "x": [
          "1960",
          "1961",
          "1962",
          "1963",
          "1964",
          "1965",
          "1966",
          "1967",
          "1968",
          "1969",
          "1970",
          "1971",
          "1972",
          "1973",
          "1974",
          "1975",
          "1976",
          "1977",
          "1978",
          "1979",
          "1980",
          "1981",
          "1982",
          "1983",
          "1984",
          "1985",
          "1986",
          "1987",
          "1988",
          "1989",
          "1990",
          "1991",
          "1992",
          "1993",
          "1994",
          "1995",
          "1996",
          "1997",
          "1998",
          "1999",
          "2000",
          "2001",
          "2002",
          "2003",
          "2004",
          "2005",
          "2006",
          "2007",
          "2008",
          "2009",
          "2010",
          "2011",
          "2012",
          "2013",
          "2014",
          "2015",
          "2016",
          "2017",
          "2018",
          "2019"
         ],
         "y": [
          9830513,
          9618013,
          9904585,
          10414512,
          10967543,
          11582398,
          12145291,
          11917043,
          12337535,
          12383168,
          12268895,
          11603202,
          12109530,
          12960121,
          12651009,
          12655613,
          13575890,
          13907111,
          13769684,
          15041652,
          15460982,
          15937724,
          15269049,
          15867060,
          17013578,
          17540071,
          17240884,
          17949877,
          18885663,
          19055165,
          19167682,
          18989140,
          19117802,
          19836126,
          19903559,
          20098843,
          21002157,
          21443603,
          21583324,
          21582103,
          22575538,
          21906355,
          21902852,
          22322634,
          22464302,
          22793450,
          22444214,
          22747914,
          22382816,
          19691342,
          20828382,
          19663856,
          17380923,
          18038771,
          17996577,
          15548985,
          14227138,
          13839632,
          13249958,
          11314840
         ]
        },
        {
         "name": "Natural Gas",
         "type": "scatter",
         "x": [
          "1960",
          "1961",
          "1962",
          "1963",
          "1964",
          "1965",
          "1966",
          "1967",
          "1968",
          "1969",
          "1970",
          "1971",
          "1972",
          "1973",
          "1974",
          "1975",
          "1976",
          "1977",
          "1978",
          "1979",
          "1980",
          "1981",
          "1982",
          "1983",
          "1984",
          "1985",
          "1986",
          "1987",
          "1988",
          "1989",
          "1990",
          "1991",
          "1992",
          "1993",
          "1994",
          "1995",
          "1996",
          "1997",
          "1998",
          "1999",
          "2000",
          "2001",
          "2002",
          "2003",
          "2004",
          "2005",
          "2006",
          "2007",
          "2008",
          "2009",
          "2010",
          "2011",
          "2012",
          "2013",
          "2014",
          "2015",
          "2016",
          "2017",
          "2018",
          "2019"
         ],
         "y": [
          12385366,
          12926392,
          13730841,
          14419107,
          15297642,
          15779457,
          17005781,
          17964988,
          19204569,
          20657964,
          21692710,
          22365248,
          22682497,
          22595346,
          21729561,
          19977076,
          20381227,
          19972477,
          20067662,
          20687615,
          20383954,
          19928435,
          18515242,
          17347750,
          18502834,
          17843043,
          16718431,
          17749685,
          18562882,
          19715929,
          19752485,
          20147768,
          20843610,
          21376406,
          21870095,
          22832593,
          23262444,
          23477148,
          23015631,
          23025697,
          23907237,
          22835551,
          23582195,
          22891393,
          22988315,
          22631800,
          22292657,
          23735125,
          23898175,
          23487297,
          24633507,
          25014983,
          26138351,
          26844986,
          27438655,
          28241055,
          28452762,
          28125807,
          31226813,
          32234936
         ]
        },
        {
         "name": "Solar",
         "type": "scatter",
         "x": [
          "1960",
          "1961",
          "1962",
          "1963",
          "1964",
          "1965",
          "1966",
          "1967",
          "1968",
          "1969",
          "1970",
          "1971",
          "1972",
          "1973",
          "1974",
          "1975",
          "1976",
          "1977",
          "1978",
          "1979",
          "1980",
          "1981",
          "1982",
          "1983",
          "1984",
          "1985",
          "1986",
          "1987",
          "1988",
          "1989",
          "1990",
          "1991",
          "1992",
          "1993",
          "1994",
          "1995",
          "1996",
          "1997",
          "1998",
          "1999",
          "2000",
          "2001",
          "2002",
          "2003",
          "2004",
          "2005",
          "2006",
          "2007",
          "2008",
          "2009",
          "2010",
          "2011",
          "2012",
          "2013",
          "2014",
          "2015",
          "2016",
          "2017",
          "2018",
          "2019"
         ],
         "y": [
          0,
          0,
          0,
          0,
          0,
          0,
          0,
          0,
          0,
          0,
          0,
          0,
          0,
          0,
          0,
          0,
          0,
          0,
          0,
          0,
          0,
          0,
          0,
          0,
          55,
          111,
          147,
          109,
          94,
          54466,
          58768,
          61623,
          62880,
          65190,
          67126,
          68233,
          69134,
          68166,
          67449,
          66066,
          63469,
          61674,
          59980,
          58432,
          58376,
          57893,
          60755,
          65621,
          74207,
          78178,
          91282,
          112429,
          158961,
          224524,
          337421,
          426734,
          570218,
          776925,
          915105,
          1017111
         ]
        },
        {
         "name": "Wind",
         "type": "scatter",
         "x": [
          "1960",
          "1961",
          "1962",
          "1963",
          "1964",
          "1965",
          "1966",
          "1967",
          "1968",
          "1969",
          "1970",
          "1971",
          "1972",
          "1973",
          "1974",
          "1975",
          "1976",
          "1977",
          "1978",
          "1979",
          "1980",
          "1981",
          "1982",
          "1983",
          "1984",
          "1985",
          "1986",
          "1987",
          "1988",
          "1989",
          "1990",
          "1991",
          "1992",
          "1993",
          "1994",
          "1995",
          "1996",
          "1997",
          "1998",
          "1999",
          "2000",
          "2001",
          "2002",
          "2003",
          "2004",
          "2005",
          "2006",
          "2007",
          "2008",
          "2009",
          "2010",
          "2011",
          "2012",
          "2013",
          "2014",
          "2015",
          "2016",
          "2017",
          "2018",
          "2019"
         ],
         "y": [
          0,
          0,
          0,
          0,
          0,
          0,
          0,
          0,
          0,
          0,
          0,
          0,
          0,
          0,
          0,
          0,
          0,
          0,
          0,
          0,
          0,
          0,
          0,
          28,
          68,
          60,
          44,
          37,
          9,
          22033,
          29007,
          30796,
          29863,
          30987,
          35560,
          32630,
          33440,
          33581,
          30853,
          45894,
          57057,
          69617,
          105334,
          113273,
          141664,
          178088,
          263738,
          340503,
          545548,
          721129,
          923427,
          1167636,
          1340059,
          1601359,
          1727542,
          1777306,
          2095595,
          2342891,
          2482364,
          2634834
         ]
        },
        {
         "name": "Wood",
         "type": "scatter",
         "x": [
          "1960",
          "1961",
          "1962",
          "1963",
          "1964",
          "1965",
          "1966",
          "1967",
          "1968",
          "1969",
          "1970",
          "1971",
          "1972",
          "1973",
          "1974",
          "1975",
          "1976",
          "1977",
          "1978",
          "1979",
          "1980",
          "1981",
          "1982",
          "1983",
          "1984",
          "1985",
          "1986",
          "1987",
          "1988",
          "1989",
          "1990",
          "1991",
          "1992",
          "1993",
          "1994",
          "1995",
          "1996",
          "1997",
          "1998",
          "1999",
          "2000",
          "2001",
          "2002",
          "2003",
          "2004",
          "2005",
          "2006",
          "2007",
          "2008",
          "2009",
          "2010",
          "2011",
          "2012",
          "2013",
          "2014",
          "2015",
          "2016",
          "2017",
          "2018",
          "2019"
         ],
         "y": [
          1319871,
          1294762,
          1300242,
          1323316,
          1336802,
          1334761,
          1368986,
          1340249,
          1419494,
          1440488,
          1430962,
          1432323,
          1503065,
          1529068,
          1539661,
          1498733,
          1713373,
          1838332,
          2037605,
          2151906,
          2471691,
          2587027,
          2630339,
          2841271,
          2894301,
          2923082,
          2824995,
          2754851,
          2891991,
          3033976,
          2626115,
          2653799,
          2786668,
          2736942,
          2839141,
          2901344,
          3014016,
          2919211,
          2726455,
          2754325,
          2772517,
          2374073,
          2397288,
          2403388,
          2510296,
          2538373,
          2495880,
          2502010,
          2494248,
          2386677,
          2684652,
          2675013,
          2617818,
          2834691,
          2916954,
          2830140,
          2729696,
          2679836,
          2748837,
          2678634
         ]
        },
        {
         "name": "Fossil Fuels",
         "type": "scatter",
         "x": [
          "1960",
          "1961",
          "1962",
          "1963",
          "1964",
          "1965",
          "1966",
          "1967",
          "1968",
          "1969",
          "1970",
          "1971",
          "1972",
          "1973",
          "1974",
          "1975",
          "1976",
          "1977",
          "1978",
          "1979",
          "1980",
          "1981",
          "1982",
          "1983",
          "1984",
          "1985",
          "1986",
          "1987",
          "1988",
          "1989",
          "1990",
          "1991",
          "1992",
          "1993",
          "1994",
          "1995",
          "1996",
          "1997",
          "1998",
          "1999",
          "2000",
          "2001",
          "2002",
          "2003",
          "2004",
          "2005",
          "2006",
          "2007",
          "2008",
          "2009",
          "2010",
          "2011",
          "2012",
          "2013",
          "2014",
          "2015",
          "2016",
          "2017",
          "2018",
          "2019"
         ],
         "y": [
          42083902,
          42704559,
          44627400,
          46470718,
          48494993,
          50527367,
          53460558,
          55139222,
          58489657,
          61326650,
          63404057,
          64476796,
          67685221,
          70354027,
          67857280,
          65345011,
          69099003,
          70976813,
          71881184,
          72867854,
          69812418,
          67555477,
          63793964,
          63060674,
          66384740,
          66107397,
          65978279,
          68423683,
          71559100,
          72857627,
          72301158,
          71822126,
          73345161,
          74710100,
          76176875,
          77226112,
          79768878,
          80931627,
          81286078,
          82301903,
          84612876,
          82770890,
          83599295,
          83909170,
          85677710,
          85632050,
          84473648,
          85827701,
          83051474,
          77889653,
          80722611,
          79267193,
          77293829,
          79239012,
          80038768,
          79113179,
          78346000,
          77940601,
          81289682,
          80348540
         ]
        },
        {
         "name": "Renewables",
         "type": "scatter",
         "x": [
          "1960",
          "1961",
          "1962",
          "1963",
          "1964",
          "1965",
          "1966",
          "1967",
          "1968",
          "1969",
          "1970",
          "1971",
          "1972",
          "1973",
          "1974",
          "1975",
          "1976",
          "1977",
          "1978",
          "1979",
          "1980",
          "1981",
          "1982",
          "1983",
          "1984",
          "1985",
          "1986",
          "1987",
          "1988",
          "1989",
          "1990",
          "1991",
          "1992",
          "1993",
          "1994",
          "1995",
          "1996",
          "1997",
          "1998",
          "1999",
          "2000",
          "2001",
          "2002",
          "2003",
          "2004",
          "2005",
          "2006",
          "2007",
          "2008",
          "2009",
          "2010",
          "2011",
          "2012",
          "2013",
          "2014",
          "2015",
          "2016",
          "2017",
          "2018",
          "2019"
         ],
         "y": [
          2928205,
          2952227,
          3117444,
          3096431,
          3225249,
          3395816,
          3432463,
          3690213,
          3772655,
          4094893,
          4070021,
          4262212,
          4382009,
          4410938,
          4741851,
          4687119,
          4727151,
          4208966,
          5005439,
          5122854,
          5424534,
          5417152,
          5980929,
          6495612,
          6438347,
          6084017,
          6111140,
          5624499,
          5456754,
          6234663,
          6041894,
          6067787,
          5820551,
          6079367,
          5987153,
          6559368,
          7012393,
          7011640,
          6491325,
          6514712,
          6104270,
          5164330,
          5726116,
          5944164,
          6074727,
          6232013,
          6636869,
          6523110,
          7174689,
          7608304,
          8266858,
          9203643,
          8846565,
          9420387,
          9712169,
          9686937,
          10331185,
          11050722,
          11282139,
          11332469
         ]
        }
       ],
       "layout": {
        "template": {
         "data": {
          "bar": [
           {
            "error_x": {
             "color": "#2a3f5f"
            },
            "error_y": {
             "color": "#2a3f5f"
            },
            "marker": {
             "line": {
              "color": "#E5ECF6",
              "width": 0.5
             }
            },
            "type": "bar"
           }
          ],
          "barpolar": [
           {
            "marker": {
             "line": {
              "color": "#E5ECF6",
              "width": 0.5
             }
            },
            "type": "barpolar"
           }
          ],
          "carpet": [
           {
            "aaxis": {
             "endlinecolor": "#2a3f5f",
             "gridcolor": "white",
             "linecolor": "white",
             "minorgridcolor": "white",
             "startlinecolor": "#2a3f5f"
            },
            "baxis": {
             "endlinecolor": "#2a3f5f",
             "gridcolor": "white",
             "linecolor": "white",
             "minorgridcolor": "white",
             "startlinecolor": "#2a3f5f"
            },
            "type": "carpet"
           }
          ],
          "choropleth": [
           {
            "colorbar": {
             "outlinewidth": 0,
             "ticks": ""
            },
            "type": "choropleth"
           }
          ],
          "contour": [
           {
            "colorbar": {
             "outlinewidth": 0,
             "ticks": ""
            },
            "colorscale": [
             [
              0,
              "#0d0887"
             ],
             [
              0.1111111111111111,
              "#46039f"
             ],
             [
              0.2222222222222222,
              "#7201a8"
             ],
             [
              0.3333333333333333,
              "#9c179e"
             ],
             [
              0.4444444444444444,
              "#bd3786"
             ],
             [
              0.5555555555555556,
              "#d8576b"
             ],
             [
              0.6666666666666666,
              "#ed7953"
             ],
             [
              0.7777777777777778,
              "#fb9f3a"
             ],
             [
              0.8888888888888888,
              "#fdca26"
             ],
             [
              1,
              "#f0f921"
             ]
            ],
            "type": "contour"
           }
          ],
          "contourcarpet": [
           {
            "colorbar": {
             "outlinewidth": 0,
             "ticks": ""
            },
            "type": "contourcarpet"
           }
          ],
          "heatmap": [
           {
            "colorbar": {
             "outlinewidth": 0,
             "ticks": ""
            },
            "colorscale": [
             [
              0,
              "#0d0887"
             ],
             [
              0.1111111111111111,
              "#46039f"
             ],
             [
              0.2222222222222222,
              "#7201a8"
             ],
             [
              0.3333333333333333,
              "#9c179e"
             ],
             [
              0.4444444444444444,
              "#bd3786"
             ],
             [
              0.5555555555555556,
              "#d8576b"
             ],
             [
              0.6666666666666666,
              "#ed7953"
             ],
             [
              0.7777777777777778,
              "#fb9f3a"
             ],
             [
              0.8888888888888888,
              "#fdca26"
             ],
             [
              1,
              "#f0f921"
             ]
            ],
            "type": "heatmap"
           }
          ],
          "heatmapgl": [
           {
            "colorbar": {
             "outlinewidth": 0,
             "ticks": ""
            },
            "colorscale": [
             [
              0,
              "#0d0887"
             ],
             [
              0.1111111111111111,
              "#46039f"
             ],
             [
              0.2222222222222222,
              "#7201a8"
             ],
             [
              0.3333333333333333,
              "#9c179e"
             ],
             [
              0.4444444444444444,
              "#bd3786"
             ],
             [
              0.5555555555555556,
              "#d8576b"
             ],
             [
              0.6666666666666666,
              "#ed7953"
             ],
             [
              0.7777777777777778,
              "#fb9f3a"
             ],
             [
              0.8888888888888888,
              "#fdca26"
             ],
             [
              1,
              "#f0f921"
             ]
            ],
            "type": "heatmapgl"
           }
          ],
          "histogram": [
           {
            "marker": {
             "colorbar": {
              "outlinewidth": 0,
              "ticks": ""
             }
            },
            "type": "histogram"
           }
          ],
          "histogram2d": [
           {
            "colorbar": {
             "outlinewidth": 0,
             "ticks": ""
            },
            "colorscale": [
             [
              0,
              "#0d0887"
             ],
             [
              0.1111111111111111,
              "#46039f"
             ],
             [
              0.2222222222222222,
              "#7201a8"
             ],
             [
              0.3333333333333333,
              "#9c179e"
             ],
             [
              0.4444444444444444,
              "#bd3786"
             ],
             [
              0.5555555555555556,
              "#d8576b"
             ],
             [
              0.6666666666666666,
              "#ed7953"
             ],
             [
              0.7777777777777778,
              "#fb9f3a"
             ],
             [
              0.8888888888888888,
              "#fdca26"
             ],
             [
              1,
              "#f0f921"
             ]
            ],
            "type": "histogram2d"
           }
          ],
          "histogram2dcontour": [
           {
            "colorbar": {
             "outlinewidth": 0,
             "ticks": ""
            },
            "colorscale": [
             [
              0,
              "#0d0887"
             ],
             [
              0.1111111111111111,
              "#46039f"
             ],
             [
              0.2222222222222222,
              "#7201a8"
             ],
             [
              0.3333333333333333,
              "#9c179e"
             ],
             [
              0.4444444444444444,
              "#bd3786"
             ],
             [
              0.5555555555555556,
              "#d8576b"
             ],
             [
              0.6666666666666666,
              "#ed7953"
             ],
             [
              0.7777777777777778,
              "#fb9f3a"
             ],
             [
              0.8888888888888888,
              "#fdca26"
             ],
             [
              1,
              "#f0f921"
             ]
            ],
            "type": "histogram2dcontour"
           }
          ],
          "mesh3d": [
           {
            "colorbar": {
             "outlinewidth": 0,
             "ticks": ""
            },
            "type": "mesh3d"
           }
          ],
          "parcoords": [
           {
            "line": {
             "colorbar": {
              "outlinewidth": 0,
              "ticks": ""
             }
            },
            "type": "parcoords"
           }
          ],
          "pie": [
           {
            "automargin": true,
            "type": "pie"
           }
          ],
          "scatter": [
           {
            "marker": {
             "colorbar": {
              "outlinewidth": 0,
              "ticks": ""
             }
            },
            "type": "scatter"
           }
          ],
          "scatter3d": [
           {
            "line": {
             "colorbar": {
              "outlinewidth": 0,
              "ticks": ""
             }
            },
            "marker": {
             "colorbar": {
              "outlinewidth": 0,
              "ticks": ""
             }
            },
            "type": "scatter3d"
           }
          ],
          "scattercarpet": [
           {
            "marker": {
             "colorbar": {
              "outlinewidth": 0,
              "ticks": ""
             }
            },
            "type": "scattercarpet"
           }
          ],
          "scattergeo": [
           {
            "marker": {
             "colorbar": {
              "outlinewidth": 0,
              "ticks": ""
             }
            },
            "type": "scattergeo"
           }
          ],
          "scattergl": [
           {
            "marker": {
             "colorbar": {
              "outlinewidth": 0,
              "ticks": ""
             }
            },
            "type": "scattergl"
           }
          ],
          "scattermapbox": [
           {
            "marker": {
             "colorbar": {
              "outlinewidth": 0,
              "ticks": ""
             }
            },
            "type": "scattermapbox"
           }
          ],
          "scatterpolar": [
           {
            "marker": {
             "colorbar": {
              "outlinewidth": 0,
              "ticks": ""
             }
            },
            "type": "scatterpolar"
           }
          ],
          "scatterpolargl": [
           {
            "marker": {
             "colorbar": {
              "outlinewidth": 0,
              "ticks": ""
             }
            },
            "type": "scatterpolargl"
           }
          ],
          "scatterternary": [
           {
            "marker": {
             "colorbar": {
              "outlinewidth": 0,
              "ticks": ""
             }
            },
            "type": "scatterternary"
           }
          ],
          "surface": [
           {
            "colorbar": {
             "outlinewidth": 0,
             "ticks": ""
            },
            "colorscale": [
             [
              0,
              "#0d0887"
             ],
             [
              0.1111111111111111,
              "#46039f"
             ],
             [
              0.2222222222222222,
              "#7201a8"
             ],
             [
              0.3333333333333333,
              "#9c179e"
             ],
             [
              0.4444444444444444,
              "#bd3786"
             ],
             [
              0.5555555555555556,
              "#d8576b"
             ],
             [
              0.6666666666666666,
              "#ed7953"
             ],
             [
              0.7777777777777778,
              "#fb9f3a"
             ],
             [
              0.8888888888888888,
              "#fdca26"
             ],
             [
              1,
              "#f0f921"
             ]
            ],
            "type": "surface"
           }
          ],
          "table": [
           {
            "cells": {
             "fill": {
              "color": "#EBF0F8"
             },
             "line": {
              "color": "white"
             }
            },
            "header": {
             "fill": {
              "color": "#C8D4E3"
             },
             "line": {
              "color": "white"
             }
            },
            "type": "table"
           }
          ]
         },
         "layout": {
          "annotationdefaults": {
           "arrowcolor": "#2a3f5f",
           "arrowhead": 0,
           "arrowwidth": 1
          },
          "autotypenumbers": "strict",
          "coloraxis": {
           "colorbar": {
            "outlinewidth": 0,
            "ticks": ""
           }
          },
          "colorscale": {
           "diverging": [
            [
             0,
             "#8e0152"
            ],
            [
             0.1,
             "#c51b7d"
            ],
            [
             0.2,
             "#de77ae"
            ],
            [
             0.3,
             "#f1b6da"
            ],
            [
             0.4,
             "#fde0ef"
            ],
            [
             0.5,
             "#f7f7f7"
            ],
            [
             0.6,
             "#e6f5d0"
            ],
            [
             0.7,
             "#b8e186"
            ],
            [
             0.8,
             "#7fbc41"
            ],
            [
             0.9,
             "#4d9221"
            ],
            [
             1,
             "#276419"
            ]
           ],
           "sequential": [
            [
             0,
             "#0d0887"
            ],
            [
             0.1111111111111111,
             "#46039f"
            ],
            [
             0.2222222222222222,
             "#7201a8"
            ],
            [
             0.3333333333333333,
             "#9c179e"
            ],
            [
             0.4444444444444444,
             "#bd3786"
            ],
            [
             0.5555555555555556,
             "#d8576b"
            ],
            [
             0.6666666666666666,
             "#ed7953"
            ],
            [
             0.7777777777777778,
             "#fb9f3a"
            ],
            [
             0.8888888888888888,
             "#fdca26"
            ],
            [
             1,
             "#f0f921"
            ]
           ],
           "sequentialminus": [
            [
             0,
             "#0d0887"
            ],
            [
             0.1111111111111111,
             "#46039f"
            ],
            [
             0.2222222222222222,
             "#7201a8"
            ],
            [
             0.3333333333333333,
             "#9c179e"
            ],
            [
             0.4444444444444444,
             "#bd3786"
            ],
            [
             0.5555555555555556,
             "#d8576b"
            ],
            [
             0.6666666666666666,
             "#ed7953"
            ],
            [
             0.7777777777777778,
             "#fb9f3a"
            ],
            [
             0.8888888888888888,
             "#fdca26"
            ],
            [
             1,
             "#f0f921"
            ]
           ]
          },
          "colorway": [
           "#636efa",
           "#EF553B",
           "#00cc96",
           "#ab63fa",
           "#FFA15A",
           "#19d3f3",
           "#FF6692",
           "#B6E880",
           "#FF97FF",
           "#FECB52"
          ],
          "font": {
           "color": "#2a3f5f"
          },
          "geo": {
           "bgcolor": "white",
           "lakecolor": "white",
           "landcolor": "#E5ECF6",
           "showlakes": true,
           "showland": true,
           "subunitcolor": "white"
          },
          "hoverlabel": {
           "align": "left"
          },
          "hovermode": "closest",
          "mapbox": {
           "style": "light"
          },
          "paper_bgcolor": "white",
          "plot_bgcolor": "#E5ECF6",
          "polar": {
           "angularaxis": {
            "gridcolor": "white",
            "linecolor": "white",
            "ticks": ""
           },
           "bgcolor": "#E5ECF6",
           "radialaxis": {
            "gridcolor": "white",
            "linecolor": "white",
            "ticks": ""
           }
          },
          "scene": {
           "xaxis": {
            "backgroundcolor": "#E5ECF6",
            "gridcolor": "white",
            "gridwidth": 2,
            "linecolor": "white",
            "showbackground": true,
            "ticks": "",
            "zerolinecolor": "white"
           },
           "yaxis": {
            "backgroundcolor": "#E5ECF6",
            "gridcolor": "white",
            "gridwidth": 2,
            "linecolor": "white",
            "showbackground": true,
            "ticks": "",
            "zerolinecolor": "white"
           },
           "zaxis": {
            "backgroundcolor": "#E5ECF6",
            "gridcolor": "white",
            "gridwidth": 2,
            "linecolor": "white",
            "showbackground": true,
            "ticks": "",
            "zerolinecolor": "white"
           }
          },
          "shapedefaults": {
           "line": {
            "color": "#2a3f5f"
           }
          },
          "ternary": {
           "aaxis": {
            "gridcolor": "white",
            "linecolor": "white",
            "ticks": ""
           },
           "baxis": {
            "gridcolor": "white",
            "linecolor": "white",
            "ticks": ""
           },
           "bgcolor": "#E5ECF6",
           "caxis": {
            "gridcolor": "white",
            "linecolor": "white",
            "ticks": ""
           }
          },
          "title": {
           "x": 0.05
          },
          "xaxis": {
           "automargin": true,
           "gridcolor": "white",
           "linecolor": "white",
           "ticks": "",
           "title": {
            "standoff": 15
           },
           "zerolinecolor": "white",
           "zerolinewidth": 2
          },
          "yaxis": {
           "automargin": true,
           "gridcolor": "white",
           "linecolor": "white",
           "ticks": "",
           "title": {
            "standoff": 15
           },
           "zerolinecolor": "white",
           "zerolinewidth": 2
          }
         }
        },
        "title": {
         "text": "Time series with range slider and selectors"
        },
        "xaxis": {
         "rangeselector": {
          "buttons": [
           {
            "count": 10,
            "label": "10Y",
            "step": "year",
            "stepmode": "backward"
           },
           {
            "count": 1,
            "label": "1y",
            "step": "year",
            "stepmode": "backward"
           },
           {
            "step": "all"
           }
          ]
         },
         "rangeslider": {
          "visible": true
         },
         "type": "date"
        }
       }
      }
     },
     "metadata": {},
     "output_type": "display_data"
    }
   ],
   "source": [
    "state = consumption[\"State\"] == \"United States\"\n",
    "ex = consumption[state]\n",
    "fig = go.Figure()\n",
    "\n",
    "for i in energy_types:\n",
    "    fig.add_trace(\n",
    "        go.Scatter(x=list(ex.Year),\n",
    "         y=list(ex[i]),\n",
    "         name=i,\n",
    "        )\n",
    "    )\n",
    "\n",
    "# fig.add_trace(\n",
    "#     go.Scatter(x=list(ex.Year), y=list(ex.Petroleum)))\n",
    "\n",
    "# Set title\n",
    "fig.update_layout(\n",
    "    title_text=\"Time series with range slider and selectors\"\n",
    ")\n",
    "\n",
    "# Add range slider\n",
    "fig.update_layout(\n",
    "    xaxis=dict(\n",
    "        rangeselector=dict(\n",
    "            buttons=list([\n",
    "                dict(count=10,\n",
    "                     label=\"10Y\",\n",
    "                     step=\"year\",\n",
    "                     stepmode=\"backward\"),\n",
    "                dict(count=1,\n",
    "                     label=\"1y\",\n",
    "                     step=\"year\",\n",
    "                     stepmode=\"backward\"),\n",
    "                dict(step=\"all\")\n",
    "            ])\n",
    "        ),\n",
    "        rangeslider=dict(\n",
    "            visible=True\n",
    "        ),\n",
    "        type=\"date\"\n",
    "    )\n",
    ")\n",
    "\n",
    "fig.show()\n"
   ]
  }
 ],
 "metadata": {
  "interpreter": {
   "hash": "363c6c73da2c2880d2e341ed47f6b3f716fa4aa3d6cca83aa388e48c436a7204"
  },
  "kernelspec": {
   "display_name": "Python 3.7.8 64-bit",
   "language": "python",
   "name": "python3"
  },
  "language_info": {
   "codemirror_mode": {
    "name": "ipython",
    "version": 3
   },
   "file_extension": ".py",
   "mimetype": "text/x-python",
   "name": "python",
   "nbconvert_exporter": "python",
   "pygments_lexer": "ipython3",
   "version": "3.7.8"
  },
  "orig_nbformat": 4
 },
 "nbformat": 4,
 "nbformat_minor": 2
}
